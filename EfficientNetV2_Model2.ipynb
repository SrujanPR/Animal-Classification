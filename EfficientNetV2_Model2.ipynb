{
  "nbformat": 4,
  "nbformat_minor": 0,
  "metadata": {
    "colab": {
      "provenance": [],
      "gpuType": "T4"
    },
    "kernelspec": {
      "name": "python3",
      "display_name": "Python 3"
    },
    "language_info": {
      "name": "python"
    },
    "accelerator": "GPU"
  },
  "cells": [
    {
      "cell_type": "code",
      "execution_count": null,
      "metadata": {
        "colab": {
          "base_uri": "https://localhost:8080/"
        },
        "id": "nAbP_wckf_mY",
        "outputId": "311e9b9d-b7bb-4cf5-b351-a7921fb2c5b3"
      },
      "outputs": [
        {
          "output_type": "stream",
          "name": "stdout",
          "text": [
            "Drive already mounted at /content/drive; to attempt to forcibly remount, call drive.mount(\"/content/drive\", force_remount=True).\n"
          ]
        }
      ],
      "source": [
        "from google.colab import drive\n",
        "drive.mount('/content/drive')"
      ]
    },
    {
      "cell_type": "code",
      "source": [
        "!pip install albumentations\n",
        "!pip install opencv-python\n"
      ],
      "metadata": {
        "colab": {
          "base_uri": "https://localhost:8080/"
        },
        "collapsed": true,
        "id": "yCPJM4YagcUZ",
        "outputId": "67ad66e9-8847-4f03-f7f7-1fda901b57e2"
      },
      "execution_count": null,
      "outputs": [
        {
          "output_type": "stream",
          "name": "stdout",
          "text": [
            "Requirement already satisfied: albumentations in /usr/local/lib/python3.11/dist-packages (2.0.8)\n",
            "Requirement already satisfied: numpy>=1.24.4 in /usr/local/lib/python3.11/dist-packages (from albumentations) (2.0.2)\n",
            "Requirement already satisfied: scipy>=1.10.0 in /usr/local/lib/python3.11/dist-packages (from albumentations) (1.15.3)\n",
            "Requirement already satisfied: PyYAML in /usr/local/lib/python3.11/dist-packages (from albumentations) (6.0.2)\n",
            "Requirement already satisfied: pydantic>=2.9.2 in /usr/local/lib/python3.11/dist-packages (from albumentations) (2.11.5)\n",
            "Requirement already satisfied: albucore==0.0.24 in /usr/local/lib/python3.11/dist-packages (from albumentations) (0.0.24)\n",
            "Requirement already satisfied: opencv-python-headless>=4.9.0.80 in /usr/local/lib/python3.11/dist-packages (from albumentations) (4.11.0.86)\n",
            "Requirement already satisfied: stringzilla>=3.10.4 in /usr/local/lib/python3.11/dist-packages (from albucore==0.0.24->albumentations) (3.12.5)\n",
            "Requirement already satisfied: simsimd>=5.9.2 in /usr/local/lib/python3.11/dist-packages (from albucore==0.0.24->albumentations) (6.4.7)\n",
            "Requirement already satisfied: annotated-types>=0.6.0 in /usr/local/lib/python3.11/dist-packages (from pydantic>=2.9.2->albumentations) (0.7.0)\n",
            "Requirement already satisfied: pydantic-core==2.33.2 in /usr/local/lib/python3.11/dist-packages (from pydantic>=2.9.2->albumentations) (2.33.2)\n",
            "Requirement already satisfied: typing-extensions>=4.12.2 in /usr/local/lib/python3.11/dist-packages (from pydantic>=2.9.2->albumentations) (4.14.0)\n",
            "Requirement already satisfied: typing-inspection>=0.4.0 in /usr/local/lib/python3.11/dist-packages (from pydantic>=2.9.2->albumentations) (0.4.1)\n",
            "Requirement already satisfied: opencv-python in /usr/local/lib/python3.11/dist-packages (4.11.0.86)\n",
            "Requirement already satisfied: numpy>=1.21.2 in /usr/local/lib/python3.11/dist-packages (from opencv-python) (2.0.2)\n"
          ]
        }
      ]
    },
    {
      "cell_type": "code",
      "source": [
        "import torch\n",
        "import torch.nn as nn\n",
        "import torch.optim as optim\n",
        "from torch.optim import lr_scheduler\n",
        "from torchvision import datasets, models\n",
        "from torch.utils.data import Dataset, DataLoader, random_split\n",
        "import numpy as np\n",
        "import time, copy, os\n",
        "from sklearn.metrics import confusion_matrix, classification_report\n",
        "import albumentations as A\n",
        "from albumentations.pytorch import ToTensorV2\n",
        "import cv2\n",
        "import matplotlib.pyplot as plt\n",
        "import seaborn as sns\n",
        "from torch.cuda.amp import autocast, GradScaler\n",
        "\n",
        "# Device setup\n",
        "device = torch.device(\"cuda\" if torch.cuda.is_available() else \"cpu\")\n",
        "print(f\"Running on device: {device}\")\n",
        "\n",
        "# Paths\n",
        "train_dir = '/content/drive/MyDrive/Datasets-train'\n",
        "test_dir = '/content/drive/MyDrive/Datasets-test'\n",
        "input_size = 224\n",
        "\n",
        "# Albumentations transforms\n",
        "train_transforms = A.Compose([\n",
        "    A.Resize(input_size, input_size),\n",
        "    A.HorizontalFlip(p=0.5),\n",
        "    A.ShiftScaleRotate(shift_limit=0.1, scale_limit=0.1, rotate_limit=15, p=0.7),\n",
        "    A.RandomBrightnessContrast(p=0.5),\n",
        "    A.OneOf([\n",
        "        A.GaussianBlur(p=0.5),\n",
        "        A.MotionBlur(p=0.5),\n",
        "        A.GaussNoise(p=0.5)\n",
        "    ], p=0.3),\n",
        "    A.RandomShadow(p=0.3),\n",
        "    A.RandomFog(p=0.2),\n",
        "    A.CoarseDropout(max_holes=8, max_height=16, max_width=16, p=0.5),\n",
        "    A.Normalize(mean=(0.485,0.456,0.406), std=(0.229,0.224,0.225)),\n",
        "    ToTensorV2()\n",
        "])\n",
        "\n",
        "val_test_transforms = A.Compose([\n",
        "    A.Resize(input_size, input_size),\n",
        "    A.Normalize(mean=(0.485,0.456,0.406), std=(0.229,0.224,0.225)),\n",
        "    ToTensorV2()\n",
        "])\n",
        "\n",
        "# Custom Albumentations Dataset\n",
        "class AlbumentationsDataset(Dataset):\n",
        "    def __init__(self, folder, transform=None):\n",
        "        self.dataset = datasets.ImageFolder(folder)\n",
        "        self.transform = transform\n",
        "        self.classes = self.dataset.classes\n",
        "\n",
        "    def __len__(self):\n",
        "        return len(self.dataset)\n",
        "\n",
        "    def __getitem__(self, idx):\n",
        "        img_path, label = self.dataset.samples[idx]\n",
        "        image = cv2.imread(img_path)\n",
        "        image = cv2.cvtColor(image, cv2.COLOR_BGR2RGB)\n",
        "        if self.transform:\n",
        "            image = self.transform(image=image)['image']\n",
        "        return image, label\n",
        "\n",
        "# Load datasets\n",
        "full_train_dataset = AlbumentationsDataset(train_dir, transform=train_transforms)\n",
        "class_names = full_train_dataset.classes\n",
        "num_classes = len(class_names)\n",
        "\n",
        "# Split into train & val\n",
        "train_size = int(0.8 * len(full_train_dataset))\n",
        "val_size = len(full_train_dataset) - train_size\n",
        "train_dataset, val_dataset = random_split(full_train_dataset, [train_size, val_size])\n",
        "val_dataset.dataset.transform = val_test_transforms\n",
        "\n",
        "test_dataset = AlbumentationsDataset(test_dir, transform=val_test_transforms)\n",
        "\n",
        "# Dataloaders\n",
        "train_loader = DataLoader(train_dataset, batch_size=32, shuffle=True, num_workers=2)\n",
        "val_loader = DataLoader(val_dataset, batch_size=32, shuffle=False, num_workers=2)\n",
        "test_loader = DataLoader(test_dataset, batch_size=32, shuffle=False, num_workers=2)\n",
        "\n",
        "dataloaders = {'train': train_loader, 'val': val_loader}\n",
        "dataset_sizes = {'train': len(train_dataset), 'val': len(val_dataset)}\n",
        "\n",
        "# Load EfficientNetV2 model\n",
        "model = models.efficientnet_v2_s(weights='IMAGENET1K_V1')\n",
        "for param in model.features.parameters():\n",
        "    param.requires_grad = False\n",
        "\n",
        "model.classifier = nn.Sequential(\n",
        "    nn.Dropout(p=0.4),\n",
        "    nn.Linear(model.classifier[1].in_features, num_classes)\n",
        ")\n",
        "model = model.to(device)\n",
        "\n",
        "# Loss, optimizer, scheduler\n",
        "criterion = nn.CrossEntropyLoss(label_smoothing=0.1)\n",
        "optimizer = optim.AdamW(model.parameters(), lr=1e-4, weight_decay=1e-5)\n",
        "scheduler = lr_scheduler.CosineAnnealingLR(optimizer, T_max=10)\n",
        "scaler = GradScaler()\n",
        "\n",
        "# Training function\n",
        "def train_model(model, dataloaders, criterion, optimizer, scheduler, num_epochs=30, patience=5):\n",
        "    since = time.time()\n",
        "    best_model_wts = copy.deepcopy(model.state_dict())\n",
        "    best_acc = 0.0\n",
        "    counter = 0\n",
        "\n",
        "    for epoch in range(num_epochs):\n",
        "        print(f'\\nEpoch {epoch+1}/{num_epochs}')\n",
        "        print('-'*10)\n",
        "\n",
        "        for phase in ['train', 'val']:\n",
        "            if phase == 'train':\n",
        "                model.train()\n",
        "            else:\n",
        "                model.eval()\n",
        "\n",
        "            running_loss, running_corrects = 0.0, 0\n",
        "\n",
        "            for inputs, labels in dataloaders[phase]:\n",
        "                inputs, labels = inputs.to(device), labels.to(device)\n",
        "                optimizer.zero_grad()\n",
        "\n",
        "                with torch.set_grad_enabled(phase == 'train'):\n",
        "                    with autocast():\n",
        "                        outputs = model(inputs)\n",
        "                        _, preds = torch.max(outputs, 1)\n",
        "                        loss = criterion(outputs, labels)\n",
        "\n",
        "                    if phase == 'train':\n",
        "                        scaler.scale(loss).backward()\n",
        "                        scaler.step(optimizer)\n",
        "                        scaler.update()\n",
        "\n",
        "                running_loss += loss.item() * inputs.size(0)\n",
        "                running_corrects += torch.sum(preds == labels.data)\n",
        "\n",
        "            if phase == 'train':\n",
        "                scheduler.step()\n",
        "\n",
        "            epoch_loss = running_loss / dataset_sizes[phase]\n",
        "            epoch_acc = running_corrects.double() / dataset_sizes[phase]\n",
        "\n",
        "            print(f'{phase} Loss: {epoch_loss:.4f} Acc: {epoch_acc:.4f}')\n",
        "\n",
        "            if phase == 'val':\n",
        "                if epoch_acc > best_acc:\n",
        "                    best_acc = epoch_acc\n",
        "                    best_model_wts = copy.deepcopy(model.state_dict())\n",
        "                    torch.save(model.state_dict(), 'best_model.pth')\n",
        "                    print(\"Best model saved!\")\n",
        "                    counter = 0\n",
        "                else:\n",
        "                    counter += 1\n",
        "                if counter >= patience:\n",
        "                    print(\"Early stopping triggered.\")\n",
        "                    model.load_state_dict(best_model_wts)\n",
        "                    return model\n",
        "\n",
        "    model.load_state_dict(best_model_wts)\n",
        "    return model\n",
        "\n",
        "# Start training\n",
        "model = train_model(model, dataloaders, criterion, optimizer, scheduler, num_epochs=30)\n",
        "\n",
        "# Load best model for evaluation\n",
        "model.load_state_dict(torch.load('best_model.pth'))\n",
        "\n",
        "# Evaluation function\n",
        "def evaluate(model, test_loader, class_names):\n",
        "    model.eval()\n",
        "    y_true, y_pred = [], []\n",
        "\n",
        "    with torch.no_grad():\n",
        "        for inputs, labels in test_loader:\n",
        "            inputs, labels = inputs.to(device), labels.to(device)\n",
        "            outputs = model(inputs)\n",
        "            _, preds = torch.max(outputs, 1)\n",
        "\n",
        "            y_true.extend(labels.cpu().numpy())\n",
        "            y_pred.extend(preds.cpu().numpy())\n",
        "\n",
        "    acc = np.mean(np.array(y_true) == np.array(y_pred))\n",
        "    print(f'\\nTest Accuracy: {acc*100:.2f}%')\n",
        "    print(\"\\nClassification Report:\\n\")\n",
        "    print(classification_report(y_true, y_pred, target_names=class_names))\n",
        "\n",
        "    cm = confusion_matrix(y_true, y_pred)\n",
        "    plt.figure(figsize=(8,6))\n",
        "    sns.heatmap(cm, annot=True, fmt=\"d\", cmap=\"Blues\", xticklabels=class_names, yticklabels=class_names)\n",
        "    plt.xlabel(\"Predicted\")\n",
        "    plt.ylabel(\"Actual\")\n",
        "    plt.title(\"Confusion Matrix\")\n",
        "    plt.show()\n",
        "\n",
        "# Run evaluation\n",
        "evaluate(model, test_loader, class_names)\n"
      ],
      "metadata": {
        "colab": {
          "base_uri": "https://localhost:8080/",
          "height": 1000
        },
        "id": "lYIaPi6BgJj-",
        "outputId": "af0bb778-f732-4a2d-b436-0a05be6f8f79"
      },
      "execution_count": null,
      "outputs": [
        {
          "output_type": "stream",
          "name": "stdout",
          "text": [
            "Running on device: cuda\n"
          ]
        },
        {
          "output_type": "stream",
          "name": "stderr",
          "text": [
            "/usr/local/lib/python3.11/dist-packages/albumentations/core/validation.py:114: UserWarning: ShiftScaleRotate is a special case of Affine transform. Please use Affine transform instead.\n",
            "  original_init(self, **validated_kwargs)\n",
            "<ipython-input-3-971405319>:39: UserWarning: Argument(s) 'max_holes, max_height, max_width' are not valid for transform CoarseDropout\n",
            "  A.CoarseDropout(max_holes=8, max_height=16, max_width=16, p=0.5),\n",
            "Downloading: \"https://download.pytorch.org/models/efficientnet_v2_s-dd5fe13b.pth\" to /root/.cache/torch/hub/checkpoints/efficientnet_v2_s-dd5fe13b.pth\n",
            "100%|██████████| 82.7M/82.7M [00:00<00:00, 161MB/s]\n"
          ]
        },
        {
          "output_type": "stream",
          "name": "stdout",
          "text": [
            "\n",
            "Epoch 1/30\n",
            "----------\n"
          ]
        },
        {
          "output_type": "stream",
          "name": "stderr",
          "text": [
            "<ipython-input-3-971405319>:104: FutureWarning: `torch.cuda.amp.GradScaler(args...)` is deprecated. Please use `torch.amp.GradScaler('cuda', args...)` instead.\n",
            "  scaler = GradScaler()\n",
            "<ipython-input-3-971405319>:130: FutureWarning: `torch.cuda.amp.autocast(args...)` is deprecated. Please use `torch.amp.autocast('cuda', args...)` instead.\n",
            "  with autocast():\n"
          ]
        },
        {
          "output_type": "stream",
          "name": "stdout",
          "text": [
            "train Loss: 0.9094 Acc: 0.6671\n",
            "val Loss: 0.7595 Acc: 0.8377\n",
            "Best model saved!\n",
            "\n",
            "Epoch 2/30\n",
            "----------\n",
            "train Loss: 0.7142 Acc: 0.8290\n",
            "val Loss: 0.6360 Acc: 0.8950\n",
            "Best model saved!\n",
            "\n",
            "Epoch 3/30\n",
            "----------\n",
            "train Loss: 0.6311 Acc: 0.8582\n",
            "val Loss: 0.5858 Acc: 0.8994\n",
            "Best model saved!\n",
            "\n",
            "Epoch 4/30\n",
            "----------\n",
            "train Loss: 0.5919 Acc: 0.8725\n",
            "val Loss: 0.5508 Acc: 0.9069\n",
            "Best model saved!\n",
            "\n",
            "Epoch 5/30\n",
            "----------\n",
            "train Loss: 0.5702 Acc: 0.8798\n",
            "val Loss: 0.5305 Acc: 0.9113\n",
            "Best model saved!\n",
            "\n",
            "Epoch 6/30\n",
            "----------\n",
            "train Loss: 0.5592 Acc: 0.8855\n",
            "val Loss: 0.5221 Acc: 0.9123\n",
            "Best model saved!\n",
            "\n",
            "Epoch 7/30\n",
            "----------\n",
            "train Loss: 0.5521 Acc: 0.8836\n",
            "val Loss: 0.5126 Acc: 0.9156\n",
            "Best model saved!\n",
            "\n",
            "Epoch 8/30\n",
            "----------\n",
            "train Loss: 0.5448 Acc: 0.8890\n",
            "val Loss: 0.5154 Acc: 0.9123\n",
            "\n",
            "Epoch 9/30\n",
            "----------\n",
            "train Loss: 0.5448 Acc: 0.8863\n",
            "val Loss: 0.5061 Acc: 0.9134\n",
            "\n",
            "Epoch 10/30\n",
            "----------\n",
            "train Loss: 0.5379 Acc: 0.8926\n",
            "val Loss: 0.5097 Acc: 0.9113\n",
            "\n",
            "Epoch 11/30\n",
            "----------\n",
            "train Loss: 0.5503 Acc: 0.8809\n",
            "val Loss: 0.5123 Acc: 0.9058\n",
            "\n",
            "Epoch 12/30\n",
            "----------\n",
            "train Loss: 0.5427 Acc: 0.8863\n",
            "val Loss: 0.5087 Acc: 0.9145\n",
            "Early stopping triggered.\n",
            "\n",
            "Test Accuracy: 93.58%\n",
            "\n",
            "Classification Report:\n",
            "\n",
            "              precision    recall  f1-score   support\n",
            "\n",
            "     cheetah       0.93      0.90      0.92       146\n",
            "     leopard       0.91      0.89      0.90       140\n",
            "       tiger       0.95      0.99      0.97       228\n",
            "\n",
            "    accuracy                           0.94       514\n",
            "   macro avg       0.93      0.93      0.93       514\n",
            "weighted avg       0.94      0.94      0.94       514\n",
            "\n"
          ]
        },
        {
          "output_type": "display_data",
          "data": {
            "text/plain": [
              "<Figure size 800x600 with 2 Axes>"
            ],
            "image/png": "[encoded data removed]"
          },
          "metadata": {}
        }
      ]
    },
    {
      "cell_type": "code",
      "source": [
        "import torch\n",
        "import torch.nn as nn\n",
        "from torchvision import models\n",
        "import albumentations as A\n",
        "from albumentations.pytorch import ToTensorV2\n",
        "import numpy as np\n",
        "import cv2\n",
        "import os\n",
        "\n",
        "# Device setup\n",
        "device = torch.device(\"cuda\" if torch.cuda.is_available() else \"cpu\")\n",
        "\n",
        "# Class names (same as training dataset order)\n",
        "class_names = ['cheetah', 'leopard', 'tiger']\n",
        "num_classes = len(class_names)\n",
        "\n",
        "# Define transforms for inference\n",
        "inference_transform = A.Compose([\n",
        "    A.Resize(224, 224),\n",
        "    A.Normalize(mean=(0.485,0.456,0.406), std=(0.229,0.224,0.225)),\n",
        "    ToTensorV2()\n",
        "])\n",
        "\n",
        "# Load model architecture\n",
        "model = models.efficientnet_v2_s(weights='IMAGENET1K_V1')\n",
        "model.classifier = nn.Sequential(\n",
        "    nn.Dropout(p=0.4),\n",
        "    nn.Linear(model.classifier[1].in_features, num_classes)\n",
        ")\n",
        "model.load_state_dict(torch.load('/content/drive/MyDrive/best_model.pth'))\n",
        "model.to(device)\n",
        "model.eval()\n",
        "\n",
        "# Prediction function\n",
        "def predict_image(image_path):\n",
        "    image = cv2.imread(image_path)\n",
        "    image = cv2.cvtColor(image, cv2.COLOR_BGR2RGB)\n",
        "    augmented = inference_transform(image=image)['image']\n",
        "    input_tensor = augmented.unsqueeze(0).to(device)\n",
        "\n",
        "    with torch.no_grad():\n",
        "        outputs = model(input_tensor)\n",
        "        probabilities = torch.nn.functional.softmax(outputs[0], dim=0)\n",
        "        confidence, predicted_class = torch.max(probabilities, 0)\n",
        "\n",
        "    predicted_label = class_names[predicted_class.item()]\n",
        "    confidence_score = confidence.item() * 100\n",
        "\n",
        "    print(f\"Predicted: {predicted_label} ({confidence_score:.2f}%)\")\n",
        "    return predicted_label, confidence_score\n",
        "\n",
        "# Example usage:\n",
        "# Replace this with your actual test image path\n",
        "test_image_path = '/content/drive/MyDrive/Datasets-test/leopard/1465.jpg'\n",
        "predict_image(test_image_path)\n"
      ],
      "metadata": {
        "colab": {
          "base_uri": "https://localhost:8080/"
        },
        "id": "PNyY197lnHRG",
        "outputId": "0b37831f-0d70-4b95-9ca9-99ebf090c877"
      },
      "execution_count": null,
      "outputs": [
        {
          "output_type": "stream",
          "name": "stdout",
          "text": [
            "Predicted: leopard (57.22%)\n"
          ]
        },
        {
          "output_type": "execute_result",
          "data": {
            "text/plain": [
              "('leopard', 57.22196698188782)"
            ]
          },
          "metadata": {},
          "execution_count": 7
        }
      ]
    },
    {
      "cell_type": "code",
      "source": [
        "# Export to TorchScript\n",
        "example_input = torch.randn(1, 3, 224, 224).to(device)\n",
        "traced_model = torch.jit.trace(model, example_input)\n",
        "\n",
        "# Save TorchScript model\n",
        "traced_model.save(\"/content/drive/MyDrive/efficientnetv2_model2_inference.pt\")\n",
        "print(\"TorchScript model exported!\")\n"
      ],
      "metadata": {
        "colab": {
          "base_uri": "https://localhost:8080/"
        },
        "id": "hRUfDWzhoGR8",
        "outputId": "8be769d9-3937-47b3-e840-6e8a6dfe2efa"
      },
      "execution_count": null,
      "outputs": [
        {
          "output_type": "stream",
          "name": "stdout",
          "text": [
            "TorchScript model exported!\n"
          ]
        }
      ]
    }
  ]
}